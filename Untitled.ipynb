{
 "cells": [
  {
   "cell_type": "code",
   "execution_count": 1,
   "metadata": {},
   "outputs": [],
   "source": [
    "import numpy as np"
   ]
  },
  {
   "cell_type": "code",
   "execution_count": 1,
   "metadata": {},
   "outputs": [],
   "source": [
    "count1_correct1 = 363006; count1_all1 = 371799\n",
    "count2_correct1 = 362636; count1_all1 = 370807\n",
    "count_correct1 = 362657; count1_all1 = 369951\n",
    "count1_correct1 = 362996; count1_all1 = 378085"
   ]
  },
  {
   "cell_type": "code",
   "execution_count": 2,
   "metadata": {},
   "outputs": [],
   "source": [
    "count1_correct2 = 491947; count1_all2 = 503888\n",
    "count1_correct2 = 491521; count1_all2 = 502701\n",
    "count1_correct2 = 491530; count1_all2 = 501197\n",
    "count1_correct2 = 491924; count1_all2 = 512175"
   ]
  },
  {
   "cell_type": "code",
   "execution_count": 3,
   "metadata": {},
   "outputs": [],
   "source": [
    "count1_correct3 = 488111; count1_all3 = 500124\n",
    "count1_correct3 = 487680; count1_all3 = 498792\n",
    "count1_correct3 = 487662; count1_all3 = 497487\n",
    "count1_correct3 = 488092; count1_all3 = 508625"
   ]
  },
  {
   "cell_type": "code",
   "execution_count": 4,
   "metadata": {},
   "outputs": [],
   "source": [
    "count1_correct4 = 382297; count1_all4 = 391882\n",
    "count1_correct4 = 381979; count1_all4 = 390817\n",
    "count1_correct4 = 381967; count1_all4 = 389694\n",
    "count1_correct4 = 382277; count1_all4 = 398523"
   ]
  },
  {
   "cell_type": "code",
   "execution_count": 7,
   "metadata": {},
   "outputs": [],
   "source": [
    "def f(count, all_count):\n",
    "    eff = sum(count)/sum(all_count)\n",
    "    print(f\"{eff*100} +- 0.1 % ({sum(count)} из {sum(all_count)})\")"
   ]
  },
  {
   "cell_type": "code",
   "execution_count": 8,
   "metadata": {},
   "outputs": [
    {
     "name": "stdout",
     "output_type": "stream",
     "text": [
      "95.98761104879915 +- 0.1 % (1725289 из 1797408)\n"
     ]
    }
   ],
   "source": [
    "count = [count1_correct1, count1_correct2, count1_correct3, count1_correct4]\n",
    "all_count = [count1_all1, count1_all2, count1_all3, count1_all4]\n",
    "f(count, all_count)"
   ]
  },
  {
   "cell_type": "code",
   "execution_count": null,
   "metadata": {},
   "outputs": [],
   "source": []
  }
 ],
 "metadata": {
  "hide_input": false,
  "kernelspec": {
   "display_name": "Python 3",
   "language": "python",
   "name": "python3"
  },
  "language_info": {
   "codemirror_mode": {
    "name": "ipython",
    "version": 3
   },
   "file_extension": ".py",
   "mimetype": "text/x-python",
   "name": "python",
   "nbconvert_exporter": "python",
   "pygments_lexer": "ipython3",
   "version": "3.7.3"
  }
 },
 "nbformat": 4,
 "nbformat_minor": 2
}
