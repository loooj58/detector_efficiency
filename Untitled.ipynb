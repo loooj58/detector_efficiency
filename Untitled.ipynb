{
 "cells": [
  {
   "cell_type": "code",
   "execution_count": 1,
   "metadata": {},
   "outputs": [],
   "source": [
    "import numpy as np"
   ]
  },
  {
   "cell_type": "code",
   "execution_count": 21,
   "metadata": {},
   "outputs": [],
   "source": [
    "n2 = 1\n",
    "def clusterize_array(arr):\n",
    "    i = 1\n",
    "    res = []\n",
    "    cluster = [arr[0]]\n",
    "    while i < len(arr):\n",
    "        if any(abs(arr[i] - elem) <= n2 for elem in cluster):\n",
    "            cluster.append(arr[i])\n",
    "        else:\n",
    "            res.append(np.mean(cluster))\n",
    "            cluster = [arr[i]]\n",
    "        i += 1\n",
    "    res.append(np.mean(cluster))\n",
    "    return res"
   ]
  },
  {
   "cell_type": "code",
   "execution_count": 22,
   "metadata": {},
   "outputs": [
    {
     "name": "stdout",
     "output_type": "stream",
     "text": [
      "2.5\n",
      "[10]\n"
     ]
    },
    {
     "data": {
      "text/plain": [
       "[2.5, 10.0]"
      ]
     },
     "execution_count": 22,
     "metadata": {},
     "output_type": "execute_result"
    }
   ],
   "source": [
    "clusterize_array([1, 2, 3, 4, 10])"
   ]
  },
  {
   "cell_type": "code",
   "execution_count": 23,
   "metadata": {},
   "outputs": [
    {
     "name": "stdout",
     "output_type": "stream",
     "text": [
      "385090\n"
     ]
    }
   ],
   "source": [
    "file1 = open(\"./0.txt\")\n",
    "strings1 = file1.readlines()\n",
    "file1.close()\n",
    "print(len(strings1))"
   ]
  },
  {
   "cell_type": "code",
   "execution_count": null,
   "metadata": {},
   "outputs": [],
   "source": []
  }
 ],
 "metadata": {
  "hide_input": false,
  "kernelspec": {
   "display_name": "Python 3",
   "language": "python",
   "name": "python3"
  },
  "language_info": {
   "codemirror_mode": {
    "name": "ipython",
    "version": 3
   },
   "file_extension": ".py",
   "mimetype": "text/x-python",
   "name": "python",
   "nbconvert_exporter": "python",
   "pygments_lexer": "ipython3",
   "version": "3.7.3"
  }
 },
 "nbformat": 4,
 "nbformat_minor": 2
}
