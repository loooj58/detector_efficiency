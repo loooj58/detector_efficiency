{
 "cells": [
  {
   "cell_type": "code",
   "execution_count": 1,
   "metadata": {},
   "outputs": [],
   "source": [
    "import matplotlib.pyplot as plt\n",
    "import numpy as np\n",
    "import math\n",
    "\n",
    "class Event:\n",
    "    \n",
    "    def __init__(self, string):\n",
    "        \n",
    "        def parse_data(string):\n",
    "            data_dict = {}\n",
    "            elems = string.split()\n",
    "            current_data_type = ''\n",
    "            for elem in elems:\n",
    "                try:\n",
    "                    intelem = int(elem)\n",
    "                    data_dict[current_data_type].append(intelem)\n",
    "                except:\n",
    "                    data_d = elem.split(':')\n",
    "                    if len(data_d) == 2:\n",
    "                        data_d = [int(x) for x in data_d]\n",
    "                        data_dict[current_data_type].append(data_d)\n",
    "                    else:\n",
    "                        current_data_type = elem\n",
    "                        data_dict[elem] = []\n",
    "            return data_dict\n",
    "        \n",
    "        data_from_string = parse_data(string)\n",
    "        self.P1 = np.array([float(el) for el in data_from_string['P1']])\n",
    "        self.P2 = np.array([float(el) for el in data_from_string['P2']])\n",
    "        self.P3 = np.array([float(el) for el in data_from_string['P3']])\n",
    "        self.P4 = np.array([float(el) for el in data_from_string['P4']])\n",
    "#         self.D1 = np.array(data_from_string['D1'])\n",
    "#         self.D2 = np.array(data_from_string['D2'])\n",
    "#         self.D = np.array([self.D1, self.D2])\n",
    "    \n",
    "    def __repr__(self):\n",
    "        return f\"P1 {self.P1} P2 {self.P2} P3 {self.P3} P4 {self.P4}\\n\"\n",
    "#         return f\"P1 {self.P1} P2 {self.P2} P3 {self.P3} P4 {self.P4} D1 {self.D1} D2 {self.D2}\\n\"\n",
    "\n",
    "    @property\n",
    "    def P(self):\n",
    "        return [self.P1, self.P2, self.P3, self.P4]\n",
    "    \n",
    "    def plot_P(self):\n",
    "        x_P = [1, 2, 3, 4]\n",
    "        y_P = [np.mean(elem) for elem in self.P]\n",
    "        plt.plot(x_P, y_P, 'o-', markersize=2)\n",
    "    \n",
    "    def plot_P_difference(self):\n",
    "        x_P = [1, 2, 3, 4]\n",
    "        y_P = [np.mean(elem) for elem in self.P]\n",
    "        y_P = [elem - y_P[0] for elem in y_P]\n",
    "        plt.plot(x_P, y_P, 'o-', markersize=2)\n",
    "        \n",
    "    def plot_P_o(self):\n",
    "        count = [len(self.P1), len(self.P2), len(self.P3), len(self.P4)]\n",
    "        a = [(i+1, count[i]) for i in range(4)]\n",
    "        x_P = np.hstack([np.ones(size) * val for val, size in a])\n",
    "        y_P = self.P1[:]\n",
    "        y_P.extend(self.P2)\n",
    "        y_P.extend(self.P3)\n",
    "        y_P.extend(self.P4)\n",
    "        plt.plot(x_P, y_P, 'o', markersize=3)\n",
    "        "
   ]
  },
  {
   "cell_type": "code",
   "execution_count": 2,
   "metadata": {},
   "outputs": [
    {
     "ename": "KeyboardInterrupt",
     "evalue": "",
     "output_type": "error",
     "traceback": [
      "\u001b[0;31m---------------------------------------------------------------------------\u001b[0m",
      "\u001b[0;31mKeyboardInterrupt\u001b[0m                         Traceback (most recent call last)",
      "\u001b[0;32m<ipython-input-2-596362ac91d7>\u001b[0m in \u001b[0;36m<module>\u001b[0;34m\u001b[0m\n\u001b[1;32m     14\u001b[0m \u001b[0mevents1\u001b[0m \u001b[0;34m=\u001b[0m \u001b[0;34m[\u001b[0m\u001b[0;34m]\u001b[0m\u001b[0;34m\u001b[0m\u001b[0;34m\u001b[0m\u001b[0m\n\u001b[1;32m     15\u001b[0m \u001b[0;32mfor\u001b[0m \u001b[0mi\u001b[0m \u001b[0;32min\u001b[0m \u001b[0mrange\u001b[0m\u001b[0;34m(\u001b[0m\u001b[0mlen\u001b[0m\u001b[0;34m(\u001b[0m\u001b[0mstrings1\u001b[0m\u001b[0;34m)\u001b[0m\u001b[0;34m)\u001b[0m\u001b[0;34m:\u001b[0m\u001b[0;34m\u001b[0m\u001b[0;34m\u001b[0m\u001b[0m\n\u001b[0;32m---> 16\u001b[0;31m     \u001b[0mevents1\u001b[0m\u001b[0;34m.\u001b[0m\u001b[0mappend\u001b[0m\u001b[0;34m(\u001b[0m\u001b[0mEvent\u001b[0m\u001b[0;34m(\u001b[0m\u001b[0mstrings1\u001b[0m\u001b[0;34m[\u001b[0m\u001b[0mi\u001b[0m\u001b[0;34m]\u001b[0m\u001b[0;34m)\u001b[0m\u001b[0;34m)\u001b[0m\u001b[0;34m\u001b[0m\u001b[0;34m\u001b[0m\u001b[0m\n\u001b[0m\u001b[1;32m     17\u001b[0m \u001b[0;34m\u001b[0m\u001b[0m\n\u001b[1;32m     18\u001b[0m \u001b[0;31m# events2 = []\u001b[0m\u001b[0;34m\u001b[0m\u001b[0;34m\u001b[0m\u001b[0;34m\u001b[0m\u001b[0m\n",
      "\u001b[0;32m<ipython-input-1-02a98376daed>\u001b[0m in \u001b[0;36m__init__\u001b[0;34m(self, string)\u001b[0m\n\u001b[1;32m     26\u001b[0m \u001b[0;34m\u001b[0m\u001b[0m\n\u001b[1;32m     27\u001b[0m         \u001b[0mdata_from_string\u001b[0m \u001b[0;34m=\u001b[0m \u001b[0mparse_data\u001b[0m\u001b[0;34m(\u001b[0m\u001b[0mstring\u001b[0m\u001b[0;34m)\u001b[0m\u001b[0;34m\u001b[0m\u001b[0;34m\u001b[0m\u001b[0m\n\u001b[0;32m---> 28\u001b[0;31m         \u001b[0mself\u001b[0m\u001b[0;34m.\u001b[0m\u001b[0mP1\u001b[0m \u001b[0;34m=\u001b[0m \u001b[0mnp\u001b[0m\u001b[0;34m.\u001b[0m\u001b[0marray\u001b[0m\u001b[0;34m(\u001b[0m\u001b[0;34m[\u001b[0m\u001b[0mfloat\u001b[0m\u001b[0;34m(\u001b[0m\u001b[0mel\u001b[0m\u001b[0;34m)\u001b[0m \u001b[0;32mfor\u001b[0m \u001b[0mel\u001b[0m \u001b[0;32min\u001b[0m \u001b[0mdata_from_string\u001b[0m\u001b[0;34m[\u001b[0m\u001b[0;34m'P1'\u001b[0m\u001b[0;34m]\u001b[0m\u001b[0;34m]\u001b[0m\u001b[0;34m)\u001b[0m\u001b[0;34m\u001b[0m\u001b[0;34m\u001b[0m\u001b[0m\n\u001b[0m\u001b[1;32m     29\u001b[0m         \u001b[0mself\u001b[0m\u001b[0;34m.\u001b[0m\u001b[0mP2\u001b[0m \u001b[0;34m=\u001b[0m \u001b[0mnp\u001b[0m\u001b[0;34m.\u001b[0m\u001b[0marray\u001b[0m\u001b[0;34m(\u001b[0m\u001b[0;34m[\u001b[0m\u001b[0mfloat\u001b[0m\u001b[0;34m(\u001b[0m\u001b[0mel\u001b[0m\u001b[0;34m)\u001b[0m \u001b[0;32mfor\u001b[0m \u001b[0mel\u001b[0m \u001b[0;32min\u001b[0m \u001b[0mdata_from_string\u001b[0m\u001b[0;34m[\u001b[0m\u001b[0;34m'P2'\u001b[0m\u001b[0;34m]\u001b[0m\u001b[0;34m]\u001b[0m\u001b[0;34m)\u001b[0m\u001b[0;34m\u001b[0m\u001b[0;34m\u001b[0m\u001b[0m\n\u001b[1;32m     30\u001b[0m         \u001b[0mself\u001b[0m\u001b[0;34m.\u001b[0m\u001b[0mP3\u001b[0m \u001b[0;34m=\u001b[0m \u001b[0mnp\u001b[0m\u001b[0;34m.\u001b[0m\u001b[0marray\u001b[0m\u001b[0;34m(\u001b[0m\u001b[0;34m[\u001b[0m\u001b[0mfloat\u001b[0m\u001b[0;34m(\u001b[0m\u001b[0mel\u001b[0m\u001b[0;34m)\u001b[0m \u001b[0;32mfor\u001b[0m \u001b[0mel\u001b[0m \u001b[0;32min\u001b[0m \u001b[0mdata_from_string\u001b[0m\u001b[0;34m[\u001b[0m\u001b[0;34m'P3'\u001b[0m\u001b[0;34m]\u001b[0m\u001b[0;34m]\u001b[0m\u001b[0;34m)\u001b[0m\u001b[0;34m\u001b[0m\u001b[0;34m\u001b[0m\u001b[0m\n",
      "\u001b[0;31mKeyboardInterrupt\u001b[0m: "
     ]
    }
   ],
   "source": [
    "file1 = open(\"./0.txt\")\n",
    "# file2 = open(\"./1.txt\")\n",
    "# file3 = open(\"./2.txt\")\n",
    "# file4 = open(\"./3.txt\")\n",
    "strings1 = file1.readlines()\n",
    "# strings2 = file2.readlines()\n",
    "# strings3 = file3.readlines()\n",
    "# strings4 = file4.readlines()\n",
    "file1.close()\n",
    "# file2.close()\n",
    "# file3.close()\n",
    "# file4.close()\n",
    "\n",
    "events1 = []\n",
    "print(len(strings1))\n",
    "for i in range(len(strings1)):\n",
    "    events1.append(Event(strings1[i]))\n",
    "    \n",
    "# events2 = []\n",
    "# for string in strings2:\n",
    "#     events2.append(Event(string))\n",
    "    \n",
    "# events3 = []\n",
    "# for string in strings3:\n",
    "#     events3.append(Event(string))\n",
    "    \n",
    "# events4 = []\n",
    "# for string in strings4:\n",
    "#     events4.append(Event(string))\n",
    "\n",
    "v1 = 3000\n",
    "v2 = 3050\n",
    "v3 = 3100\n",
    "v4 = 3150\n",
    "\n",
    "D1D2 = 15\n",
    "D1P1 = 405\n",
    "D1P2 = 785\n",
    "D1P3 = 1085\n",
    "D1P4 = 1385"
   ]
  },
  {
   "cell_type": "markdown",
   "metadata": {},
   "source": [
    "# Данные:"
   ]
  },
  {
   "cell_type": "code",
   "execution_count": null,
   "metadata": {},
   "outputs": [],
   "source": [
    "for i in range(50):\n",
    "    events1[i].plot_P()\n",
    "plt.savefig('data.png', dpi=400)"
   ]
  },
  {
   "cell_type": "code",
   "execution_count": null,
   "metadata": {},
   "outputs": [],
   "source": [
    "for i in range(50):\n",
    "    events1[i].plot_P_difference()\n",
    "plt.savefig('data_diff.png', dpi=400)"
   ]
  },
  {
   "cell_type": "markdown",
   "metadata": {},
   "source": [
    "# Кластеризация"
   ]
  },
  {
   "cell_type": "code",
   "execution_count": null,
   "metadata": {},
   "outputs": [],
   "source": [
    "n2 = 1\n",
    "\n",
    "def clusterize(event):\n",
    "    def clusterize_array(arr):\n",
    "        if len(arr) == 0:\n",
    "            return []\n",
    "        i = 1\n",
    "        res = []\n",
    "        cluster = [arr[0]]\n",
    "        while i < len(arr):\n",
    "            if any(abs(arr[i] - elem) <= n2 for elem in cluster):\n",
    "                cluster.append(arr[i])\n",
    "            else:\n",
    "                res.append(np.mean(cluster))\n",
    "                cluster = [arr[i]]\n",
    "            i += 1\n",
    "        res.append(np.mean(cluster))\n",
    "        return res\n",
    "    \n",
    "    event.P1 = clusterize_array(event.P1)\n",
    "    event.P2 = clusterize_array(event.P2)\n",
    "    event.P3 = clusterize_array(event.P3)\n",
    "    event.P4 = clusterize_array(event.P4)"
   ]
  },
  {
   "cell_type": "code",
   "execution_count": null,
   "metadata": {},
   "outputs": [],
   "source": [
    "i = 0\n",
    "for event in events1:\n",
    "    if i < 10:\n",
    "        print(event)\n",
    "    clusterize(event)\n",
    "    i += 1\n",
    "    if i < 10:\n",
    "        print(event)"
   ]
  },
  {
   "cell_type": "code",
   "execution_count": null,
   "metadata": {},
   "outputs": [],
   "source": [
    "for i in range(50):\n",
    "    events1[i].plot_P()\n",
    "plt.savefig('data_clusterized.png', dpi=400)"
   ]
  },
  {
   "cell_type": "code",
   "execution_count": null,
   "metadata": {},
   "outputs": [],
   "source": [
    "for i in range(50):\n",
    "    events1[i].plot_P_difference()\n",
    "plt.savefig('data_clusterized_diff.png', dpi=400)"
   ]
  },
  {
   "cell_type": "markdown",
   "metadata": {},
   "source": [
    "# Отбор событий с корректным сигналом во всех четырех камерах"
   ]
  },
  {
   "cell_type": "code",
   "execution_count": null,
   "metadata": {},
   "outputs": [],
   "source": [
    "events1_4signals_correct = []\n",
    "n1 = 6\n",
    "for i in range(len(events1)):\n",
    "    if abs(np.mean(events1[i].P1) - np.mean(events1[i].P2)) <= n1 and\\\n",
    "    abs(np.mean(events1[i].P2) - np.mean(events1[i].P3)) <= n1 and\\\n",
    "    abs(np.mean(events1[i].P3) - np.mean(events1[i].P4)) <= n1 and\\\n",
    "    len(events1[i].P1) == 1 and len(events1[i].P2) == 1 and\\\n",
    "    len(events1[i].P3) == 1 and len(events1[i].P4) == 1:\n",
    "        events1_4signals_correct.append(events1[i])\n",
    "print(len(events1_4signals_correct))"
   ]
  },
  {
   "cell_type": "code",
   "execution_count": null,
   "metadata": {},
   "outputs": [],
   "source": [
    "for i in range(100):\n",
    "    events1_4signals_correct[i].plot_P()\n",
    "plt.savefig('correct_events.png', dpi=400)"
   ]
  },
  {
   "cell_type": "code",
   "execution_count": null,
   "metadata": {},
   "outputs": [],
   "source": [
    "for i in range(100):\n",
    "    events1_4signals_correct[i].plot_P_difference()\n",
    "plt.savefig('correct_events_diff.png', dpi=400)"
   ]
  },
  {
   "cell_type": "markdown",
   "metadata": {},
   "source": [
    "# Нахождение смещения камер относительно друг друга и корректировка"
   ]
  },
  {
   "cell_type": "code",
   "execution_count": null,
   "metadata": {},
   "outputs": [],
   "source": [
    "def find_delta(p):\n",
    "    x = np.array([1, 2, 3, 4])\n",
    "    y = np.array([p_[0] for p_ in p])\n",
    "    a, b = np.polyfit(x, y, 1)\n",
    "    y_fit = a * x + b\n",
    "    return y_fit - y\n",
    "\n",
    "delta_data = [find_delta([event.P1, event.P2, event.P3, event.P4]) for event in events1_4signals_correct]\n",
    "delta1 = np.mean([delta_data_[0] for delta_data_ in delta_data])\n",
    "delta2 = np.mean([delta_data_[1] for delta_data_ in delta_data])\n",
    "delta3 = np.mean([delta_data_[2] for delta_data_ in delta_data])\n",
    "delta4 = np.mean([delta_data_[3] for delta_data_ in delta_data])\n",
    "print(delta1, delta2, delta3, delta4)"
   ]
  },
  {
   "cell_type": "code",
   "execution_count": null,
   "metadata": {},
   "outputs": [],
   "source": [
    "for event in events1:\n",
    "#     event.P2 -= delta1\n",
    "#     event.P2 -= delta2\n",
    "#     event.P3 -= delta3\n",
    "#     event.P4 -= delta4\n",
    "    event.P2 += delta1\n",
    "    event.P2 += delta2\n",
    "    event.P3 += delta3\n",
    "    event.P4 += delta4"
   ]
  },
  {
   "cell_type": "code",
   "execution_count": null,
   "metadata": {},
   "outputs": [],
   "source": [
    "for i in range(100):\n",
    "    events1[i].plot_P()\n",
    "plt.savefig('data_correct.png', dpi=400)"
   ]
  },
  {
   "cell_type": "code",
   "execution_count": null,
   "metadata": {},
   "outputs": [],
   "source": [
    "for i in range(100):\n",
    "    events1[i].plot_P_difference()\n",
    "plt.savefig('data_correct_diff.png', dpi=400)"
   ]
  },
  {
   "cell_type": "code",
   "execution_count": null,
   "metadata": {},
   "outputs": [],
   "source": [
    "events1_4signals_correct = []\n",
    "for i in range(len(events1)):\n",
    "    if abs(np.mean(events1[i].P1) - np.mean(events1[i].P2)) <= n1 and\\\n",
    "    abs(np.mean(events1[i].P2) - np.mean(events1[i].P3)) <= n1 and\\\n",
    "    abs(np.mean(events1[i].P3) - np.mean(events1[i].P4)) <= n1 and\\\n",
    "    len(events1[i].P1) == 1 and len(events1[i].P2) == 1 and\\\n",
    "    len(events1[i].P3) == 1 and len(events1[i].P4) == 1:\n",
    "        events1_4signals_correct.append(events1[i])\n",
    "\n",
    "print(len(events1_4signals_correct))"
   ]
  },
  {
   "cell_type": "code",
   "execution_count": null,
   "metadata": {},
   "outputs": [],
   "source": [
    "for i in range(100):\n",
    "    events1_4signals_correct[i].plot_P()\n",
    "plt.savefig('correct_after.png', dpi=400)"
   ]
  },
  {
   "cell_type": "code",
   "execution_count": null,
   "metadata": {},
   "outputs": [],
   "source": [
    "for i in range(100):\n",
    "    events1_4signals_correct[i].plot_P_difference()\n",
    "plt.savefig('correct_after_diff.png', dpi=400)"
   ]
  },
  {
   "cell_type": "markdown",
   "metadata": {},
   "source": [
    "# Определение треков в событии"
   ]
  },
  {
   "cell_type": "code",
   "execution_count": null,
   "metadata": {},
   "outputs": [],
   "source": [
    "n3 = 2\n",
    "\n",
    "def find_delta_3(y, x):\n",
    "    x = np.array(x)\n",
    "    y = np.array(y)\n",
    "    a, b = np.polyfit(x, y, 1)\n",
    "    y_fit = a * x + b\n",
    "    return y_fit - y\n",
    "\n",
    "def find_delta_4(y):\n",
    "    x = np.array([1, 2, 3, 4])\n",
    "    y = np.array(y)\n",
    "    a, b = np.polyfit(x, y, 1)\n",
    "    y_fit = a * x + b\n",
    "    return y_fit - y\n",
    "\n",
    "def find_track(arr1, arr2, arr3, x1, x2, x3):\n",
    "    res = []\n",
    "    for elem1 in arr1:\n",
    "        for elem2 in arr2:\n",
    "            for elem3 in arr3:\n",
    "                if all([abs(x)<=n3 for x in find_delta_3([elem1, elem2, elem3], [x1, x2, x3])]):\n",
    "                    res.append([elem1, elem2, elem3])\n",
    "    return res\n",
    "\n",
    "                    \n",
    "def find_track_4(arr1, arr2, arr3, arr4):\n",
    "    res = []\n",
    "    for elem1 in arr1:\n",
    "        for elem2 in arr2:\n",
    "            for elem3 in arr3:\n",
    "                for elem4 in arr4:\n",
    "                    if all([abs(x)<=n3 for x in find_delta_4([elem1, elem2, elem3, elem4])]):\n",
    "                        res.append([elem1, elem2, elem3, elem4])\n",
    "    return res"
   ]
  },
  {
   "cell_type": "code",
   "execution_count": null,
   "metadata": {},
   "outputs": [],
   "source": [
    "def plot_track(event, xs, ys):\n",
    "    plt.plot(xs, ys)\n",
    "    event.plot_P_o()"
   ]
  },
  {
   "cell_type": "markdown",
   "metadata": {},
   "source": [
    "# Оценка эффективности пропорциональных камер"
   ]
  },
  {
   "cell_type": "code",
   "execution_count": null,
   "metadata": {},
   "outputs": [],
   "source": [
    "count1_correct = 0\n",
    "count2_correct = 0\n",
    "count3_correct = 0\n",
    "count4_correct = 0\n",
    "count1_all = 0\n",
    "count2_all = 0\n",
    "count3_all = 0\n",
    "count4_all = 0\n",
    "\n",
    "for event in events1:\n",
    "    track1 = find_track(event.P2, event.P3, event.P4, 2, 3, 4)\n",
    "    track2 = find_track(event.P1, event.P3, event.P4, 1, 3, 4)\n",
    "    track3 = find_track(event.P1, event.P2, event.P4, 1, 2, 4)\n",
    "    track4 = find_track(event.P1, event.P2, event.P3, 1, 2, 3)\n",
    "    \n",
    "    if track1 != []:\n",
    "        count1_all += 1\n",
    "        for track1_ in track1:\n",
    "            if find_track_4(event.P1, [track1_[0]], [track1_[1]], [track1_[2]]) != []:\n",
    "                count1_correct += 1\n",
    "                break\n",
    "            \n",
    "    if track2 != []:\n",
    "        count2_all += 1\n",
    "        for track2_ in track2:\n",
    "            if find_track_4([track2_[0]], event.P2, [track2_[1]], [track2_[2]]) != []:\n",
    "                count2_correct += 1\n",
    "                break\n",
    "        \n",
    "    if track3 != []:\n",
    "        count3_all += 1\n",
    "        for track3_ in track3:\n",
    "            if find_track_4([track3_[0]], [track3_[1]], event.P3, [track3_[2]]) != []:\n",
    "                count3_correct += 1\n",
    "                break\n",
    "            \n",
    "    if track4 != []:\n",
    "        count4_all += 1\n",
    "        for track4_ in track4:\n",
    "            if find_track_4([track4_[0]], [track4_[1]], [track4_[2]], event.P4) != []:\n",
    "                count4_correct += 1\n",
    "                break\n",
    "\n",
    "print(len(events1))\n",
    "print(count1_correct, count1_all, count1_correct/count1_all)\n",
    "print(count2_correct, count2_all, count2_correct/count2_all)\n",
    "print(count3_correct, count3_all, count3_correct/count3_all)\n",
    "print(count4_correct, count4_all, count4_correct/count4_all)"
   ]
  },
  {
   "cell_type": "code",
   "execution_count": null,
   "metadata": {},
   "outputs": [],
   "source": [
    "i = 0\n",
    "for ev in events1:\n",
    "    if i > 3:\n",
    "        break\n",
    "    f_t = find_track_4(ev.P1, ev.P2, ev.P3, ev.P4)\n",
    "    if len(ev.P1) > 1 and f_t != []:\n",
    "        i += 1\n",
    "        for f_t_ in f_t:\n",
    "            plot_track(ev, [1, 2, 3, 4], f_t_)\n",
    "        print(ev)"
   ]
  },
  {
   "cell_type": "code",
   "execution_count": null,
   "metadata": {},
   "outputs": [],
   "source": [
    "my_max = 0\n",
    "for event in events1:\n",
    "    my_max = max(my_max, len(event.P1)*len(event.P2)*len(event.P3)*len(event.P4))\n",
    "print(my_max)"
   ]
  },
  {
   "cell_type": "code",
   "execution_count": null,
   "metadata": {},
   "outputs": [],
   "source": []
  }
 ],
 "metadata": {
  "@webio": {
   "lastCommId": null,
   "lastKernelId": null
  },
  "hide_input": false,
  "kernelspec": {
   "display_name": "Python 3",
   "language": "python",
   "name": "python3"
  },
  "language_info": {
   "codemirror_mode": {
    "name": "ipython",
    "version": 3
   },
   "file_extension": ".py",
   "mimetype": "text/x-python",
   "name": "python",
   "nbconvert_exporter": "python",
   "pygments_lexer": "ipython3",
   "version": "3.7.3"
  }
 },
 "nbformat": 4,
 "nbformat_minor": 2
}
